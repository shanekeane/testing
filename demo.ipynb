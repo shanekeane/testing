{
 "cells": [
  {
   "cell_type": "markdown",
   "metadata": {},
   "source": [
    "# DEMOS SOME WAYS OF USING KNN AND ELM ON DIGITS DATASET"
   ]
  },
  {
   "cell_type": "code",
   "execution_count": 1,
   "metadata": {
    "id": "7byQesN7Zwrv"
   },
   "outputs": [],
   "source": [
    "import numpy as np\n",
    "import matplotlib.pyplot as plt\n",
    "import time\n",
    "import copy\n",
    "from data_utils import get_knn_data_split, get_elm_data_split, one_hot\n",
    "from knn_functions import knn, cv_error_k\n",
    "from elm_functions import get_error_elm, cv_error_nodes\n",
    "import data_utils"
   ]
  },
  {
   "cell_type": "code",
   "execution_count": 2,
   "metadata": {
    "id": "wkdw0CbwZ31-"
   },
   "outputs": [
    {
     "data": {
      "text/plain": [
       "<matplotlib.image.AxesImage at 0x7f7b9c6c4ac0>"
      ]
     },
     "execution_count": 2,
     "metadata": {},
     "output_type": "execute_result"
    },
    {
     "data": {
      "image/png": "[encoded data removed]",
      "text/plain": [
       "<Figure size 432x288 with 1 Axes>"
      ]
     },
     "metadata": {
      "needs_background": "light"
     },
     "output_type": "display_data"
    }
   ],
   "source": [
    "#Load data and show example\n",
    "DATA_FILE = \"digits.dat\"\n",
    "dat = np.loadtxt(DATA_FILE)\n",
    "plt.imshow(dat[0][1:].reshape(16,16))"
   ]
  },
  {
   "cell_type": "markdown",
   "metadata": {},
   "source": [
    "# KNN Demo"
   ]
  },
  {
   "cell_type": "markdown",
   "metadata": {},
   "source": [
    "## Simple"
   ]
  },
  {
   "cell_type": "code",
   "execution_count": 6,
   "metadata": {},
   "outputs": [],
   "source": [
    "#Hyperparameters\n",
    "KS = range(1, 11)\n",
    "RUNS = 2"
   ]
  },
  {
   "cell_type": "code",
   "execution_count": 7,
   "metadata": {
    "colab": {
     "base_uri": "https://localhost:8080/"
    },
    "id": "47tVgb2GOXit",
    "outputId": "b49df5d3-4f96-40db-982f-b5d6b0ab5ad0"
   },
   "outputs": [
    {
     "name": "stdout",
     "output_type": "stream",
     "text": [
      "Run:0, No of nearest neighbours:1, Train Error: 0.0, Test Error: 3.3333333333333335\n",
      "Run:0, No of nearest neighbours:2, Train Error: 0.0, Test Error: 3.3333333333333335\n",
      "Run:0, No of nearest neighbours:3, Train Error: 1.5057811239580532, Test Error: 3.2795698924731185\n",
      "Run:0, No of nearest neighbours:4, Train Error: 1.4923366496369992, Test Error: 3.010752688172043\n",
      "Run:0, No of nearest neighbours:5, Train Error: 2.339338531863404, Test Error: 3.3870967741935485\n",
      "Run:0, No of nearest neighbours:6, Train Error: 2.312449583221296, Test Error: 3.6021505376344085\n",
      "Run:0, No of nearest neighbours:7, Train Error: 2.944339876310836, Test Error: 3.6559139784946235\n",
      "Run:0, No of nearest neighbours:8, Train Error: 2.9308954019897824, Test Error: 3.924731182795699\n",
      "Run:0, No of nearest neighbours:9, Train Error: 3.468674374831944, Test Error: 4.032258064516129\n",
      "Run:0, No of nearest neighbours:10, Train Error: 3.482118849152998, Test Error: 3.924731182795699\n",
      "69.1983814239502\n",
      "Run:1, No of nearest neighbours:1, Train Error: 0.0, Test Error: 3.924731182795699\n",
      "Run:1, No of nearest neighbours:2, Train Error: 0.0, Test Error: 3.924731182795699\n",
      "Run:1, No of nearest neighbours:3, Train Error: 1.398225329389621, Test Error: 4.086021505376344\n",
      "Run:1, No of nearest neighbours:4, Train Error: 1.438558752352783, Test Error: 4.086021505376344\n",
      "Run:1, No of nearest neighbours:5, Train Error: 2.285560634579188, Test Error: 4.247311827956989\n",
      "Run:1, No of nearest neighbours:6, Train Error: 2.2586716859370797, Test Error: 4.193548387096774\n",
      "Run:1, No of nearest neighbours:7, Train Error: 2.944339876310836, Test Error: 4.623655913978495\n",
      "Run:1, No of nearest neighbours:8, Train Error: 2.82333960742135, Test Error: 4.731182795698925\n",
      "Run:1, No of nearest neighbours:9, Train Error: 3.2804517343371873, Test Error: 5.0\n",
      "Run:1, No of nearest neighbours:10, Train Error: 3.2670072600161335, Test Error: 4.946236559139785\n",
      "68.31101942062378\n"
     ]
    }
   ],
   "source": [
    "#Hyperparameter tuning \n",
    "np.random.seed(0)\n",
    "train_errors = list()\n",
    "test_errors = list()\n",
    "start = time.time()\n",
    "for r in range(RUNS):\n",
    "    start = time.time()\n",
    "    train_x, train_y, test_x, test_y = get_knn_data_split(dat)\n",
    "    tr_err_k = list()\n",
    "    te_err_k = list()\n",
    "    for k in KS:\n",
    "        tr_preds = knn(train_x, train_y, train_x, k)\n",
    "        tr_e = np.sum(tr_preds != train_y)*100.0/len(train_y)\n",
    "        te_preds = knn(train_x, train_y, test_x, k)\n",
    "        te_e = np.sum(te_preds != test_y)*100.0/len(test_y)\n",
    "        te_err_k.append(te_e)\n",
    "        tr_err_k.append(tr_e)\n",
    "        print(f'Run:{r}, No of nearest neighbours:{k}, Train Error: {tr_e}, Test Error: {te_e}')\n",
    "    train_errors.append(tr_err_k)\n",
    "    test_errors.append(te_err_k)\n",
    "    stop = time.time()\n",
    "    print(stop-start)"
   ]
  },
  {
   "cell_type": "code",
   "execution_count": 8,
   "metadata": {
    "id": "hPrwKkxcaBxr"
   },
   "outputs": [
    {
     "name": "stdout",
     "output_type": "stream",
     "text": [
      "   k    Train error (%)     Test error (%)\n",
      "\n",
      "------------------------------------------\n",
      "\n",
      "   1    0.00 +/- 0.00       3.63 +/- 0.30\n",
      "\n",
      "   2    0.00 +/- 0.00       3.63 +/- 0.30\n",
      "\n",
      "   3    1.45 +/- 0.05       3.68 +/- 0.40\n",
      "\n",
      "   4    1.47 +/- 0.03       3.55 +/- 0.54\n",
      "\n",
      "   5    2.31 +/- 0.03       3.82 +/- 0.43\n",
      "\n",
      "   6    2.29 +/- 0.03       3.90 +/- 0.30\n",
      "\n",
      "   7    2.94 +/- 0.00       4.14 +/- 0.48\n",
      "\n",
      "   8    2.88 +/- 0.05       4.33 +/- 0.40\n",
      "\n",
      "   9    3.37 +/- 0.09       4.52 +/- 0.48\n",
      "\n",
      "  10    3.37 +/- 0.11       4.44 +/- 0.51\n",
      "\n"
     ]
    }
   ],
   "source": [
    "#Obtain means/stds and print results\n",
    "train_errors_np = np.asarray(train_errors)\n",
    "test_errors_np = np.asarray(test_errors)\n",
    "train_means = np.mean(train_errors_np, axis = 0)\n",
    "train_stds = np.std(train_errors_np, axis = 0)\n",
    "test_means = np.mean(test_errors_np, axis = 0)\n",
    "test_stds = np.std(test_errors_np, axis = 0)\n",
    "\n",
    "#Output to file\n",
    "print('{:7s} {:18s}  {:10s}\\n'.\\\n",
    "         format('   k', 'Train error (%)', 'Test error (%)'))\n",
    "print('------------------------------------------\\n')\n",
    "for i in range(len(KS)):\n",
    "    print('{:4d} {:7.2f} +/- {:3.2f} {:10.2f} +/- {:3.2f}\\n'.\\\n",
    "             format(KS[i],\\\n",
    "                    train_means[i], train_stds[i],\\\n",
    "                    test_means[i], test_stds[i]))"
   ]
  },
  {
   "cell_type": "markdown",
   "metadata": {},
   "source": [
    "## With cross-validation"
   ]
  },
  {
   "cell_type": "code",
   "execution_count": 9,
   "metadata": {},
   "outputs": [],
   "source": [
    "#Hyperparameters\n",
    "KS = range(1, 11)\n",
    "RUNS = 2"
   ]
  },
  {
   "cell_type": "code",
   "execution_count": 10,
   "metadata": {
    "colab": {
     "base_uri": "https://localhost:8080/"
    },
    "id": "3SGPd_QuOdvL",
    "outputId": "95c76d9a-88e4-41f2-caa3-489fe11befec"
   },
   "outputs": [
    {
     "name": "stdout",
     "output_type": "stream",
     "text": [
      "Run = 1, k = 1, error = 3.7644261014816585\n",
      "Run = 1, k = 2, error = 3.7644261014816585\n",
      "Run = 1, k = 3, error = 3.939148245366655\n",
      "Run = 1, k = 4, error = 3.8853576877743308\n",
      "Run = 1, k = 5, error = 4.221478621168406\n",
      "Run = 1, k = 6, error = 4.302132821369431\n",
      "Run = 1, k = 7, error = 4.65169461497856\n",
      "Run = 1, k = 8, error = 4.503799958059455\n",
      "Run = 1, k = 9, error = 4.732403048643802\n",
      "Run = 1, k = 10, error = 4.813075326666232\n",
      "Run = 1, best k = 1, time for run: 36.454347133636475\n",
      "Run = 2, k = 1, error = 3.7107168940856603\n",
      "Run = 2, k = 2, error = 3.7107168940856603\n",
      "Run = 2, k = 3, error = 3.966138432725196\n",
      "Run = 2, k = 4, error = 3.8854751936134675\n",
      "Run = 2, k = 5, error = 4.342563868943026\n",
      "Run = 2, k = 6, error = 4.221514776811217\n",
      "Run = 2, k = 7, error = 4.53077206759659\n",
      "Run = 2, k = 8, error = 4.490467564772834\n",
      "Run = 2, k = 9, error = 4.732502476661533\n",
      "Run = 2, k = 10, error = 4.719016421892965\n",
      "Run = 2, best k = 1, time for run: 37.1514368057251\n",
      "Total run time: 73.6061737537384\n"
     ]
    }
   ],
   "source": [
    "#Hyperparameter tuning - looking for best k\n",
    "np.random.seed(0)\n",
    "test_errors_cv = list()\n",
    "k_bests = list()\n",
    "start_expt = time.time()\n",
    "for r in range(RUNS):\n",
    "    start_r = time.time()\n",
    "    train_x, train_y, test_x, test_y = get_knn_data_split(dat)\n",
    "    cv_errors = list()\n",
    "    for k in KS:     \n",
    "        cv_err = cv_error_k(train_x, train_y, k)\n",
    "        cv_errors.append(cv_err)\n",
    "        print(f'Run = {r+1}, k = {k}, error = {cv_err}')\n",
    "    k_best = KS[np.argmin(cv_errors)] #get best node size\n",
    "\n",
    "    test_preds = knn(train_x, train_y, test_x, k_best)\n",
    "    te_e = np.sum(test_preds != test_y)*100.0/len(test_y)\n",
    "    \n",
    "    test_errors_cv.append(te_e)\n",
    "    k_bests.append(k_best)\n",
    "    stop_r = time.time()\n",
    "    print(f'Run = {r+1}, best k = {k_best}, time for run: {stop_r-start_r}')\n",
    "stop_expt = time.time()\n",
    "print(f\"Total run time: {stop_expt - start_expt}\")"
   ]
  },
  {
   "cell_type": "code",
   "execution_count": 11,
   "metadata": {
    "id": "Zr_9G3gOR9sb"
   },
   "outputs": [
    {
     "name": "stdout",
     "output_type": "stream",
     "text": [
      "Best k: 1.0 +/- 0.0\n",
      "\n",
      "Test error: 3.96% +/- 0.55%\n"
     ]
    }
   ],
   "source": [
    "#Output best k and test error\n",
    "mean_k = np.mean(k_bests)\n",
    "std_k = np.std(k_bests)\n",
    "mean_error = np.mean(test_errors)\n",
    "std_error = np.std(test_errors)\n",
    "print(f\"Best k: {np.round(mean_k, 2)} +/- {np.round(std_k, 2)}\\n\")\n",
    "print(f\"Test error: {np.round(mean_error, 2)}% +/- {np.round(std_error, 2)}%\")"
   ]
  },
  {
   "cell_type": "markdown",
   "metadata": {
    "id": "PcNh-UKYgxKp"
   },
   "source": [
    "# Extreme learning machine"
   ]
  },
  {
   "cell_type": "code",
   "execution_count": 4,
   "metadata": {},
   "outputs": [],
   "source": [
    "#Must represent data labels as one hot for ELM\n",
    "dat_y, dat_x = np.hsplit(dat, [1])\n",
    "dat_y = one_hot(dat_y) #create one hot vectors for labels\n",
    "dat_x = (dat_x + 1.0)/2.0"
   ]
  },
  {
   "cell_type": "markdown",
   "metadata": {},
   "source": [
    "## Simple"
   ]
  },
  {
   "cell_type": "code",
   "execution_count": 6,
   "metadata": {},
   "outputs": [],
   "source": [
    "NODES = [300, 500, 800, 1000, 1300, 1500, 1800, 2000]\n",
    "RUNS = 2"
   ]
  },
  {
   "cell_type": "code",
   "execution_count": 7,
   "metadata": {},
   "outputs": [
    {
     "name": "stdout",
     "output_type": "stream",
     "text": [
      "Run: 0, Nodes: 300, Training error: 5.9021242269427265, Test error: 6.935483870967742\n",
      "Run: 0, Nodes: 500, Training error: 3.4148964775477277, Test error: 5.483870967741935\n",
      "Run: 0, Nodes: 800, Training error: 2.003226673837053, Test error: 4.193548387096774\n",
      "Run: 0, Nodes: 1000, Training error: 1.411669803710675, Test error: 4.032258064516129\n",
      "Run: 0, Nodes: 1300, Training error: 0.7932239849421887, Test error: 3.924731182795699\n",
      "Run: 0, Nodes: 1500, Training error: 0.6587792417316483, Test error: 4.032258064516129\n",
      "Run: 0, Nodes: 1800, Training error: 0.28233396074213496, Test error: 3.3870967741935485\n",
      "Run: 0, Nodes: 2000, Training error: 0.295778435063189, Test error: 3.3870967741935485\n",
      "Run: 1, Nodes: 300, Training error: 5.418123151384781, Test error: 6.451612903225806\n",
      "Run: 1, Nodes: 500, Training error: 3.5762301694003766, Test error: 5.0\n",
      "Run: 1, Nodes: 800, Training error: 1.76122613605808, Test error: 4.623655913978495\n",
      "Run: 1, Nodes: 1000, Training error: 1.2100026888948643, Test error: 3.978494623655914\n",
      "Run: 1, Nodes: 1300, Training error: 0.6991126646948105, Test error: 4.032258064516129\n",
      "Run: 1, Nodes: 1500, Training error: 0.5108900242000538, Test error: 3.978494623655914\n",
      "Run: 1, Nodes: 1800, Training error: 0.28233396074213496, Test error: 3.870967741935484\n",
      "Run: 1, Nodes: 2000, Training error: 0.2554450121000269, Test error: 3.4946236559139785\n"
     ]
    }
   ],
   "source": [
    "#Running for different hyperparameter values\n",
    "np.random.seed(0)\n",
    "train_errors = list()\n",
    "test_errors = list()\n",
    "for r in range(RUNS):\n",
    "    train_x, train_y, test_x, test_y = get_elm_data_split(dat_x, dat_y)\n",
    "    tr_err_n = list()\n",
    "    te_err_n = list()\n",
    "    for n in NODES:\n",
    "        tr_e = get_error_elm(train_x, train_y, train_x, train_y, n)\n",
    "        te_e = get_error_elm(train_x, train_y, test_x, test_y, n)\n",
    "        te_err_n.append(te_e)\n",
    "        tr_err_n.append(tr_e)\n",
    "        print(f'Run: {r}, Nodes: {n}, Training error: {tr_e}, Test error: {te_e}')\n",
    "    train_errors.append(tr_err_n)\n",
    "    test_errors.append(te_err_n)"
   ]
  },
  {
   "cell_type": "code",
   "execution_count": 9,
   "metadata": {},
   "outputs": [
    {
     "name": "stdout",
     "output_type": "stream",
     "text": [
      " nodes  Train error (%)     Test error (%)\n",
      "\n",
      "------------------------------------------\n",
      "\n",
      " 300    5.66 +/- 0.24       6.69 +/- 0.24\n",
      "\n",
      " 500    3.50 +/- 0.08       5.24 +/- 0.24\n",
      "\n",
      " 800    1.88 +/- 0.12       4.41 +/- 0.22\n",
      "\n",
      "1000    1.31 +/- 0.10       4.01 +/- 0.03\n",
      "\n",
      "1300    0.75 +/- 0.05       3.98 +/- 0.05\n",
      "\n",
      "1500    0.58 +/- 0.07       4.01 +/- 0.03\n",
      "\n",
      "1800    0.28 +/- 0.00       3.63 +/- 0.24\n",
      "\n",
      "2000    0.28 +/- 0.02       3.44 +/- 0.05\n",
      "\n"
     ]
    }
   ],
   "source": [
    "#Obtain means/stds\n",
    "train_errors_np = np.asarray(train_errors)\n",
    "test_errors_np = np.asarray(test_errors)\n",
    "train_means = np.mean(train_errors_np, axis = 0)\n",
    "train_stds = np.std(train_errors_np, axis = 0)\n",
    "test_means = np.mean(test_errors_np, axis = 0)\n",
    "test_stds = np.std(test_errors_np, axis = 0)\n",
    "\n",
    "#Print\n",
    "print('{:7s} {:18s}  {:10s}\\n'.\\\n",
    "        format(' nodes', 'Train error (%)', 'Test error (%)'))\n",
    "print('------------------------------------------\\n')\n",
    "for i in range(len(NODES)):\n",
    "    print('{:4d} {:7.2f} +/- {:3.2f} {:10.2f} +/- {:3.2f}\\n'.\\\n",
    "             format(NODES[i],\\\n",
    "                    train_means[i], train_stds[i],\\\n",
    "                    test_means[i], test_stds[i]))"
   ]
  },
  {
   "cell_type": "markdown",
   "metadata": {},
   "source": [
    "## With cross-validation"
   ]
  },
  {
   "cell_type": "code",
   "execution_count": 5,
   "metadata": {},
   "outputs": [],
   "source": [
    "NODES = [300, 500, 800, 1000, 1300, 1500, 1800, 2000]\n",
    "RUNS = 2"
   ]
  },
  {
   "cell_type": "code",
   "execution_count": 7,
   "metadata": {},
   "outputs": [
    {
     "name": "stdout",
     "output_type": "stream",
     "text": [
      "Run = 1, d = 300, error = 7.394389367348562\n",
      "Run = 1, d = 500, error = 5.404699148896169\n",
      "Run = 1, d = 800, error = 4.813111482309044\n",
      "Run = 1, d = 1000, error = 4.571040414777534\n",
      "Run = 1, d = 1300, error = 4.181110845969731\n",
      "Run = 1, d = 1500, error = 3.8585753953619544\n",
      "Run = 1, d = 1800, error = 3.8584940451656293\n",
      "Run = 1, d = 2000, error = 3.724103520836497\n",
      "Run = 1, best d = 2000, time for run: 75.75342392921448\n",
      "Run = 2, d = 300, error = 6.950786746787571\n",
      "Run = 2, d = 500, error = 5.525712085385167\n",
      "Run = 2, d = 800, error = 4.544158694347427\n",
      "Run = 2, d = 1000, error = 4.221550932454028\n",
      "Run = 2, d = 1300, error = 3.8989702872927383\n",
      "Run = 2, d = 1500, error = 3.670421430172607\n",
      "Run = 2, d = 1800, error = 3.8989070149178184\n",
      "Run = 2, d = 2000, error = 3.4014957589430983\n",
      "Run = 2, best d = 2000, time for run: 85.00885367393494\n",
      "Total run time: 160.7642149925232\n"
     ]
    }
   ],
   "source": [
    "#Hyperparameter tuning - looking for best number of nodes\n",
    "np.random.seed(0)\n",
    "test_errors = list()\n",
    "node_bests = list()\n",
    "start_expt = time.time()\n",
    "for r in range(RUNS):\n",
    "    start_r = time.time()\n",
    "    train_x, train_y, test_x, test_y = get_elm_data_split(dat_x, dat_y)\n",
    "    cv_errors = list()\n",
    "    for n in NODES:     \n",
    "        cv_err = cv_error_nodes(train_x, train_y, n)\n",
    "        cv_errors.append(cv_err)\n",
    "        print(f'Run = {r+1}, d = {n}, error = {cv_err}')\n",
    "    node_best = NODES[np.argmin(cv_errors)] #get best node size\n",
    "\n",
    "    t_e = get_error_elm(train_x, train_y, test_x, test_y, node_best)\n",
    "    \n",
    "    test_errors.append(t_e)\n",
    "    node_bests.append(node_best)\n",
    "    stop_r = time.time()\n",
    "    print(f'Run = {r+1}, best d = {node_best}, time for run: {stop_r-start_r}')\n",
    "stop_expt = time.time()\n",
    "print(f\"Total run time: {stop_expt - start_expt}\")"
   ]
  },
  {
   "cell_type": "code",
   "execution_count": 9,
   "metadata": {},
   "outputs": [
    {
     "name": "stdout",
     "output_type": "stream",
     "text": [
      "node number*: 2000.0 +/- 0.0\n",
      "\n",
      "Test error: 3.74% +/- 0.4%\n"
     ]
    }
   ],
   "source": [
    "#Q1.7 - means/stds over runs\n",
    "mean_n = np.mean(node_bests)\n",
    "std_n = np.std(node_bests)\n",
    "mean_error = np.mean(test_errors)\n",
    "std_error = np.std(test_errors)\n",
    "\n",
    "print(f\"node number*: {np.round(mean_n, 2)} +/- {np.round(std_n, 2)}\\n\")\n",
    "print(f\"Test error: {np.round(mean_error, 2)}% +/- {np.round(std_error, 2)}%\")"
   ]
  },
  {
   "cell_type": "code",
   "execution_count": null,
   "metadata": {},
   "outputs": [],
   "source": []
  }
 ],
 "metadata": {
  "colab": {
   "collapsed_sections": [],
   "name": "2.A2 - Q1.(6,7) - 1v1+KNN",
   "provenance": []
  },
  "kernelspec": {
   "display_name": "Python 3",
   "language": "python",
   "name": "python3"
  },
  "language_info": {
   "codemirror_mode": {
    "name": "ipython",
    "version": 3
   },
   "file_extension": ".py",
   "mimetype": "text/x-python",
   "name": "python",
   "nbconvert_exporter": "python",
   "pygments_lexer": "ipython3",
   "version": "3.9.7"
  }
 },
 "nbformat": 4,
 "nbformat_minor": 1
}
